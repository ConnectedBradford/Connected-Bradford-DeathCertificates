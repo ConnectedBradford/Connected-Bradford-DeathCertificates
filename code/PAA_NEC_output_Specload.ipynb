{
 "cells": [
  {
   "cell_type": "code",
   "execution_count": 1,
   "id": "46f9e360-3178-4823-b6c8-47c7aa31adfd",
   "metadata": {
    "tags": []
   },
   "outputs": [
    {
     "name": "stderr",
     "output_type": "stream",
     "text": [
      "/opt/conda/lib/python3.10/site-packages/google/auth/_default.py:76: UserWarning: Your application has authenticated using end user credentials from Google Cloud SDK without a quota project. You might receive a \"quota exceeded\" or \"API not enabled\" error. See the following page for troubleshooting: https://cloud.google.com/docs/authentication/adc-troubleshooting/user-creds. \n",
      "  warnings.warn(_CLOUD_SDK_CREDENTIALS_WARNING)\n",
      "/opt/conda/lib/python3.10/site-packages/google/auth/_default.py:76: UserWarning: Your application has authenticated using end user credentials from Google Cloud SDK without a quota project. You might receive a \"quota exceeded\" or \"API not enabled\" error. See the following page for troubleshooting: https://cloud.google.com/docs/authentication/adc-troubleshooting/user-creds. \n",
      "  warnings.warn(_CLOUD_SDK_CREDENTIALS_WARNING)\n"
     ]
    },
    {
     "name": "stdout",
     "output_type": "stream",
     "text": [
      "Data loaded successfully into CB_MYSPACE_PAA.src_NEC_Death_output_specification\n"
     ]
    }
   ],
   "source": [
    "from google.cloud import bigquery\n",
    "\n",
    "# Initialize the BigQuery client\n",
    "client = bigquery.Client()\n",
    "\n",
    "# Specify the dataset and table where you want to load the data\n",
    "dataset_id = 'CB_MYSPACE_PAA'\n",
    "table_id = 'src_NEC_Death_output_specification'  # Replace with your actual table name\n",
    "\n",
    "# Define the schema for the table\n",
    "schema = [\n",
    "    bigquery.SchemaField('FieldName', 'STRING', mode='NULLABLE'),\n",
    "    bigquery.SchemaField('Format', 'STRING', mode='NULLABLE'),\n",
    "    bigquery.SchemaField('Description', 'STRING', mode='NULLABLE')\n",
    "  ]\n",
    "\n",
    "# Define the configuration for the load job\n",
    "load_config = bigquery.LoadJobConfig(\n",
    "    autodetect=True,  # Automatically infer the schema from the data\n",
    "    source_format=bigquery.SourceFormat.CSV,  # Specify the source format (CSV in this case)\n",
    "    skip_leading_rows=1,  # Skip the header row\n",
    "    allow_quoted_newlines=True,  # Allow quoted data containing newline characters\n",
    "    write_disposition=bigquery.WriteDisposition.WRITE_TRUNCATE,  # Overwrite existing table\n",
    "    schema=schema  # Add the schema definition\n",
    ")\n",
    "\n",
    "# Load the data from the specified URI (Google Cloud Storage path)\n",
    "uri = 'gs://yhcr-prd-phm-bia-core-data-landing-bradford/src_NEC_Death_output_specification.txt'\n",
    "table_ref = client.dataset(dataset_id).table(table_id)\n",
    "load_job = client.load_table_from_uri(uri, table_ref, job_config=load_config)\n",
    "\n",
    "# Wait for the job to complete\n",
    "load_job.result()\n",
    "\n",
    "# Check if the job was successful\n",
    "if load_job.state == 'DONE':\n",
    "    print(f\"Data loaded successfully into {dataset_id}.{table_id}\")\n",
    "else:\n",
    "    print(f\"Error loading data: {load_job.errors}\")"
   ]
  },
  {
   "cell_type": "code",
   "execution_count": null,
   "id": "6e136f93-6b02-44f0-9f55-1f604b5e7898",
   "metadata": {},
   "outputs": [],
   "source": []
  }
 ],
 "metadata": {
  "environment": {
   "kernel": "python3",
   "name": ".m119",
   "type": "gcloud",
   "uri": "us-docker.pkg.dev/deeplearning-platform-release/gcr.io/:m119"
  },
  "kernelspec": {
   "display_name": "Python 3",
   "language": "python",
   "name": "python3"
  },
  "language_info": {
   "codemirror_mode": {
    "name": "ipython",
    "version": 3
   },
   "file_extension": ".py",
   "mimetype": "text/x-python",
   "name": "python",
   "nbconvert_exporter": "python",
   "pygments_lexer": "ipython3",
   "version": "3.10.14"
  }
 },
 "nbformat": 4,
 "nbformat_minor": 5
}
